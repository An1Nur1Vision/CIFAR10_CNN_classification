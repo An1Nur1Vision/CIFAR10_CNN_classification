{
 "cells": [
  {
   "cell_type": "markdown",
   "metadata": {
    "collapsed": true,
    "deletable": true,
    "editable": true
   },
   "source": [
    "# Image Classification\n",
    "In this project, you'll classify images from the [CIFAR-10 dataset](https://www.cs.toronto.edu/~kriz/cifar.html).  The dataset consists of airplanes, dogs, cats, and other objects. You'll preprocess the images, then train a convolutional neural network on all the samples. The images need to be normalized and the labels need to be one-hot encoded.  You'll get to apply what you learned and build a convolutional, max pooling, dropout, and fully connected layers.  At the end, you'll get to see your neural network's predictions on the sample images.\n",
    "## Get the Data\n",
    "Run the following cell to download the [CIFAR-10 dataset for python](https://www.cs.toronto.edu/~kriz/cifar-10-python.tar.gz)."
   ]
  },
  {
   "cell_type": "code",
   "execution_count": 21,
   "metadata": {
    "collapsed": false,
    "deletable": true,
    "editable": true
   },
   "outputs": [
    {
     "name": "stdout",
     "output_type": "stream",
     "text": [
      "All files found!\n"
     ]
    }
   ],
   "source": [
    "\"\"\"\n",
    "DON'T MODIFY ANYTHING IN THIS CELL THAT IS BELOW THIS LINE\n",
    "\"\"\"\n",
    "from urllib.request import urlretrieve\n",
    "from os.path import isfile, isdir\n",
    "from tqdm import tqdm\n",
    "import problem_unittests as tests\n",
    "import tarfile\n",
    "\n",
    "cifar10_dataset_folder_path = 'cifar-10-batches-py'\n",
    "\n",
    "class DLProgress(tqdm):\n",
    "    last_block = 0\n",
    "\n",
    "    def hook(self, block_num=1, block_size=1, total_size=None):\n",
    "        self.total = total_size\n",
    "        self.update((block_num - self.last_block) * block_size)\n",
    "        self.last_block = block_num\n",
    "\n",
    "if not isfile('cifar-10-python.tar.gz'):\n",
    "    with DLProgress(unit='B', unit_scale=True, miniters=1, desc='CIFAR-10 Dataset') as pbar:\n",
    "        urlretrieve(\n",
    "            'https://www.cs.toronto.edu/~kriz/cifar-10-python.tar.gz',\n",
    "            'cifar-10-python.tar.gz',\n",
    "            pbar.hook)\n",
    "\n",
    "if not isdir(cifar10_dataset_folder_path):\n",
    "    with tarfile.open('cifar-10-python.tar.gz') as tar:\n",
    "        tar.extractall()\n",
    "        tar.close()\n",
    "\n",
    "\n",
    "tests.test_folder_path(cifar10_dataset_folder_path)"
   ]
  },
  {
   "cell_type": "markdown",
   "metadata": {
    "deletable": true,
    "editable": true
   },
   "source": [
    "## Explore the Data\n",
    "The dataset is broken into batches to prevent your machine from running out of memory.  The CIFAR-10 dataset consists of 5 batches, named `data_batch_1`, `data_batch_2`, etc.. Each batch contains the labels and images that are one of the following:\n",
    "* airplane\n",
    "* automobile\n",
    "* bird\n",
    "* cat\n",
    "* deer\n",
    "* dog\n",
    "* frog\n",
    "* horse\n",
    "* ship\n",
    "* truck\n",
    "\n",
    "Understanding a dataset is part of making predictions on the data.  Play around with the code cell below by changing the `batch_id` and `sample_id`. The `batch_id` is the id for a batch (1-5). The `sample_id` is the id for a image and label pair in the batch.\n",
    "\n",
    "Ask yourself \"What are all possible labels?\", \"What is the range of values for the image data?\", \"Are the labels in order or random?\".  Answers to questions like these will help you preprocess the data and end up with better predictions."
   ]
  },
  {
   "cell_type": "code",
   "execution_count": 22,
   "metadata": {
    "collapsed": false,
    "deletable": true,
    "editable": true
   },
   "outputs": [
    {
     "name": "stdout",
     "output_type": "stream",
     "text": [
      "\n",
      "Stats of batch 1:\n",
      "Samples: 10000\n",
      "Label Counts: {0: 1005, 1: 974, 2: 1032, 3: 1016, 4: 999, 5: 937, 6: 1030, 7: 1001, 8: 1025, 9: 981}\n",
      "First 20 Labels: [6, 9, 9, 4, 1, 1, 2, 7, 8, 3, 4, 7, 7, 2, 9, 9, 9, 3, 2, 6]\n",
      "\n",
      "Example of Image 5:\n",
      "Image - Min Value: 0 Max Value: 252\n",
      "Image - Shape: (32, 32, 3)\n",
      "Label - Label Id: 1 Name: automobile\n"
     ]
    },
    {
     "data": {
      "image/png": "[encoded data removed]",
      "text/plain": [
       "<matplotlib.figure.Figure at 0x7f36806e6780>"
      ]
     },
     "metadata": {
      "image/png": {
       "height": 250,
       "width": 253
      }
     },
     "output_type": "display_data"
    }
   ],
   "source": [
    "%matplotlib inline\n",
    "%config InlineBackend.figure_format = 'retina'\n",
    "\n",
    "import helper\n",
    "import numpy as np\n",
    "\n",
    "# Explore the dataset\n",
    "batch_id = 1\n",
    "sample_id = 5\n",
    "helper.display_stats(cifar10_dataset_folder_path, batch_id, sample_id)"
   ]
  },
  {
   "cell_type": "markdown",
   "metadata": {
    "deletable": true,
    "editable": true
   },
   "source": [
    "## Implement Preprocess Functions\n",
    "### Normalize\n",
    "In the cell below, implement the `normalize` function to take in image data, `x`, and return it as a normalized Numpy array. The values should be in the range of 0 to 1, inclusive.  The return object should be the same shape as `x`."
   ]
  },
  {
   "cell_type": "code",
   "execution_count": 23,
   "metadata": {
    "collapsed": false,
    "deletable": true,
    "editable": true
   },
   "outputs": [
    {
     "name": "stdout",
     "output_type": "stream",
     "text": [
      "Tests Passed\n"
     ]
    }
   ],
   "source": [
    "def normalize(input_img):\n",
    "    \"\"\"\n",
    "    Normalize a list of sample image data in the range of 0 to 1\n",
    "    : x: List of image data.  The image shape is (32, 32, 3)\n",
    "    : return: Numpy array of normalize data\n",
    "    \"\"\"\n",
    "    # Img values [0,255]\n",
    "    MINVAL = 0\n",
    "    MAXVAL = 255\n",
    "    # applied to every value in input_img\n",
    "    output = (input_img - MINVAL)/(MAXVAL - MINVAL)\n",
    "    return output\n",
    "\n",
    "\n",
    "\"\"\"\n",
    "DON'T MODIFY ANYTHING IN THIS CELL THAT IS BELOW THIS LINE\n",
    "\"\"\"\n",
    "tests.test_normalize(normalize)"
   ]
  },
  {
   "cell_type": "markdown",
   "metadata": {
    "deletable": true,
    "editable": true
   },
   "source": [
    "### One-hot encode\n",
    "Just like the previous code cell, you'll be implementing a function for preprocessing.  This time, you'll implement the `one_hot_encode` function. The input, `x`, are a list of labels.  Implement the function to return the list of labels as One-Hot encoded Numpy array.  The possible values for labels are 0 to 9. The one-hot encoding function should return the same encoding for each value between each call to `one_hot_encode`.  Make sure to save the map of encodings outside the function.\n",
    "\n",
    "Hint: Don't reinvent the wheel."
   ]
  },
  {
   "cell_type": "code",
   "execution_count": 24,
   "metadata": {
    "collapsed": false,
    "deletable": true,
    "editable": true
   },
   "outputs": [
    {
     "name": "stdout",
     "output_type": "stream",
     "text": [
      "Tests Passed\n"
     ]
    }
   ],
   "source": [
    "def one_hot_encode(input_labels):\n",
    "    \"\"\"\n",
    "    One hot encode a list of sample labels. Return a one-hot encoded vector for each label.\n",
    "    : x: List of sample Labels\n",
    "    : return: Numpy array of one-hot encoded labels\n",
    "    \"\"\"\n",
    "    NUMLABELS = 10\n",
    "    # create lists of 0s (as many as there are labels), that are NUMLABELS long\n",
    "    one_hot = np.zeros((len(input_labels), NUMLABELS))\n",
    "    # indicate corret label (1)\n",
    "    for label, val_list in zip(input_labels, one_hot):\n",
    "        val_list[label] = 1\n",
    "    return one_hot\n",
    "\n",
    "\n",
    "\"\"\"\n",
    "DON'T MODIFY ANYTHING IN THIS CELL THAT IS BELOW THIS LINE\n",
    "\"\"\"\n",
    "tests.test_one_hot_encode(one_hot_encode)"
   ]
  },
  {
   "cell_type": "markdown",
   "metadata": {
    "deletable": true,
    "editable": true
   },
   "source": [
    "### Randomize Data\n",
    "As you saw from exploring the data above, the order of the samples are randomized.  It doesn't hurt to randomize it again, but you don't need to for this dataset."
   ]
  },
  {
   "cell_type": "markdown",
   "metadata": {
    "deletable": true,
    "editable": true
   },
   "source": [
    "## Preprocess all the data and save it\n",
    "Running the code cell below will preprocess all the CIFAR-10 data and save it to file. The code below also uses 10% of the training data for validation."
   ]
  },
  {
   "cell_type": "code",
   "execution_count": 25,
   "metadata": {
    "collapsed": false,
    "deletable": true,
    "editable": true
   },
   "outputs": [],
   "source": [
    "\"\"\"\n",
    "DON'T MODIFY ANYTHING IN THIS CELL\n",
    "\"\"\"\n",
    "# Preprocess Training, Validation, and Testing Data\n",
    "helper.preprocess_and_save_data(cifar10_dataset_folder_path, normalize, one_hot_encode)"
   ]
  },
  {
   "cell_type": "markdown",
   "metadata": {
    "deletable": true,
    "editable": true
   },
   "source": [
    "# Check Point\n",
    "This is your first checkpoint.  If you ever decide to come back to this notebook or have to restart the notebook, you can start from here.  The preprocessed data has been saved to disk."
   ]
  },
  {
   "cell_type": "code",
   "execution_count": 26,
   "metadata": {
    "collapsed": true,
    "deletable": true,
    "editable": true
   },
   "outputs": [],
   "source": [
    "\"\"\"\n",
    "DON'T MODIFY ANYTHING IN THIS CELL\n",
    "\"\"\"\n",
    "import pickle\n",
    "import problem_unittests as tests\n",
    "import helper\n",
    "\n",
    "# Load the Preprocessed Validation data\n",
    "valid_features, valid_labels = pickle.load(open('preprocess_validation.p', mode='rb'))"
   ]
  },
  {
   "cell_type": "markdown",
   "metadata": {
    "deletable": true,
    "editable": true
   },
   "source": [
    "## Build the network\n",
    "For the neural network, you'll build each layer into a function.  Most of the code you've seen has been outside of functions. To test your code more thoroughly, we require that you put each layer in a function.  This allows us to give you better feedback and test for simple mistakes using our unittests before you submit your project.\n",
    "\n",
    ">**Note:** If you're finding it hard to dedicate enough time for this course each week, we've provided a small shortcut to this part of the project. In the next couple of problems, you'll have the option to use classes from the [TensorFlow Layers](https://www.tensorflow.org/api_docs/python/tf/layers) or [TensorFlow Layers (contrib)](https://www.tensorflow.org/api_guides/python/contrib.layers) packages to build each layer, except the layers you build in the \"Convolutional and Max Pooling Layer\" section.  TF Layers is similar to Keras's and TFLearn's abstraction to layers, so it's easy to pickup.\n",
    "\n",
    ">However, if you would like to get the most out of this course, try to solve all the problems _without_ using anything from the TF Layers packages. You **can** still use classes from other packages that happen to have the same name as ones you find in TF Layers! For example, instead of using the TF Layers version of the `conv2d` class, [tf.layers.conv2d](https://www.tensorflow.org/api_docs/python/tf/layers/conv2d), you would want to use the TF Neural Network version of `conv2d`, [tf.nn.conv2d](https://www.tensorflow.org/api_docs/python/tf/nn/conv2d). \n",
    "\n",
    "Let's begin!\n",
    "\n",
    "### Input\n",
    "The neural network needs to read the image data, one-hot encoded labels, and dropout keep probability. Implement the following functions\n",
    "* Implement `neural_net_image_input`\n",
    " * Return a [TF Placeholder](https://www.tensorflow.org/api_docs/python/tf/placeholder)\n",
    " * Set the shape using `image_shape` with batch size set to `None`.\n",
    " * Name the TensorFlow placeholder \"x\" using the TensorFlow `name` parameter in the [TF Placeholder](https://www.tensorflow.org/api_docs/python/tf/placeholder).\n",
    "* Implement `neural_net_label_input`\n",
    " * Return a [TF Placeholder](https://www.tensorflow.org/api_docs/python/tf/placeholder)\n",
    " * Set the shape using `n_classes` with batch size set to `None`.\n",
    " * Name the TensorFlow placeholder \"y\" using the TensorFlow `name` parameter in the [TF Placeholder](https://www.tensorflow.org/api_docs/python/tf/placeholder).\n",
    "* Implement `neural_net_keep_prob_input`\n",
    " * Return a [TF Placeholder](https://www.tensorflow.org/api_docs/python/tf/placeholder) for dropout keep probability.\n",
    " * Name the TensorFlow placeholder \"keep_prob\" using the TensorFlow `name` parameter in the [TF Placeholder](https://www.tensorflow.org/api_docs/python/tf/placeholder).\n",
    "\n",
    "These names will be used at the end of the project to load your saved model.\n",
    "\n",
    "Note: `None` for shapes in TensorFlow allow for a dynamic size."
   ]
  },
  {
   "cell_type": "code",
   "execution_count": 28,
   "metadata": {
    "collapsed": false,
    "deletable": true,
    "editable": true
   },
   "outputs": [
    {
     "name": "stdout",
     "output_type": "stream",
     "text": [
      "Image Input Tests Passed.\n",
      "Label Input Tests Passed.\n",
      "Keep Prob Tests Passed.\n"
     ]
    }
   ],
   "source": [
    "import tensorflow as tf\n",
    "\n",
    "def neural_net_image_input(image_shape):\n",
    "    \"\"\"\n",
    "    Return a Tensor for a bach of image input\n",
    "    : image_shape: Shape of the images\n",
    "    : return: Tensor for image input.\n",
    "    \"\"\"\n",
    "    return tf.placeholder(tf.float32, shape=(None, *image_shape), name='x')\n",
    "\n",
    "\n",
    "def neural_net_label_input(n_classes):\n",
    "    \"\"\"\n",
    "    Return a Tensor for a batch of label input\n",
    "    : n_classes: Number of classes\n",
    "    : return: Tensor for label input.\n",
    "    \"\"\"\n",
    "    return tf.placeholder(tf.float32, shape=(None, n_classes), name='y')\n",
    "\n",
    "\n",
    "def neural_net_keep_prob_input():\n",
    "    \"\"\"\n",
    "    Return a Tensor for keep probability\n",
    "    : return: Tensor for keep probability.\n",
    "    \"\"\"\n",
    "    return tf.placeholder(tf.float32, name='keep_prob')\n",
    "\n",
    "\n",
    "\"\"\"\n",
    "DON'T MODIFY ANYTHING IN THIS CELL THAT IS BELOW THIS LINE\n",
    "\"\"\"\n",
    "tf.reset_default_graph()\n",
    "tests.test_nn_image_inputs(neural_net_image_input)\n",
    "tests.test_nn_label_inputs(neural_net_label_input)\n",
    "tests.test_nn_keep_prob_inputs(neural_net_keep_prob_input)"
   ]
  },
  {
   "cell_type": "markdown",
   "metadata": {
    "deletable": true,
    "editable": true
   },
   "source": [
    "### Convolution and Max Pooling Layer\n",
    "Convolution layers have a lot of success with images. For this code cell, you should implement the function `conv2d_maxpool` to apply convolution then max pooling:\n",
    "* Create the weight and bias using `conv_ksize`, `conv_num_outputs` and the shape of `x_tensor`.\n",
    "* Apply a convolution to `x_tensor` using weight and `conv_strides`.\n",
    " * We recommend you use same padding, but you're welcome to use any padding.\n",
    "* Add bias\n",
    "* Add a nonlinear activation to the convolution.\n",
    "* Apply Max Pooling using `pool_ksize` and `pool_strides`.\n",
    " * We recommend you use same padding, but you're welcome to use any padding.\n",
    "\n",
    "**Note:** You **can't** use [TensorFlow Layers](https://www.tensorflow.org/api_docs/python/tf/layers) or [TensorFlow Layers (contrib)](https://www.tensorflow.org/api_guides/python/contrib.layers) for **this** layer, but you can still use TensorFlow's [Neural Network](https://www.tensorflow.org/api_docs/python/tf/nn) package. You may still use the shortcut option for all the **other** layers."
   ]
  },
  {
   "cell_type": "code",
   "execution_count": 30,
   "metadata": {
    "collapsed": false,
    "deletable": true,
    "editable": true
   },
   "outputs": [
    {
     "name": "stdout",
     "output_type": "stream",
     "text": [
      "Tests Passed\n"
     ]
    }
   ],
   "source": [
    "def conv2d_maxpool(x_tensor, conv_num_outputs, conv_ksize, conv_strides, pool_ksize, pool_strides):\n",
    "    \"\"\"\n",
    "    Apply convolution then max pooling to x_tensor\n",
    "    :param x_tensor: TensorFlow Tensor\n",
    "    :param conv_num_outputs: Number of outputs for the convolutional layer\n",
    "    :param conv_ksize: kernal size 2-D Tuple for the convolutional layer\n",
    "    :param conv_strides: Stride 2-D Tuple for convolution\n",
    "    :param pool_ksize: kernal size 2-D Tuple for pool\n",
    "    :param pool_strides: Stride 2-D Tuple for pool\n",
    "    : return: A tensor that represents convolution and max pooling of x_tensor\n",
    "    \"\"\"\n",
    "    # ------------------------- params\n",
    "    num_input = x_tensor.shape.as_list()[3]\n",
    "    PADDING = 'SAME'\n",
    "    # convolutional filter\n",
    "    # NOTE: stddev=0.05 here... necessary?\n",
    "    weight = tf.Variable(tf.truncated_normal([conv_ksize[0], conv_ksize[1], num_input, conv_num_outputs], stddev=0.05))\n",
    "    bias = tf.Variable(tf.zeros(conv_num_outputs))\n",
    "    conv_strides = [1, conv_strides[0], conv_strides[1], 1]\n",
    "    # pooling\n",
    "    pool_ksize = [1, pool_ksize[0], pool_ksize[1], 1]\n",
    "    pool_strides = [1, pool_strides[0], pool_strides[1], 1]\n",
    "    \n",
    "    # ----------------------- build layer\n",
    "    # convolutional layer (add weights+bias)\n",
    "    conv_layer = tf.nn.conv2d(x_tensor, weight, conv_strides, padding=PADDING)\n",
    "    # add bias\n",
    "    conv_layer = tf.add(conv_layer, bias)\n",
    "    # add activation function (non-linear)\n",
    "    conv_layer = tf.nn.relu(conv_layer)\n",
    "    # add maxpool\n",
    "    conv_mp_layer = tf.nn.max_pool(conv_layer, ksize=pool_ksize, strides=pool_strides, padding=PADDING)\n",
    "    \n",
    "    return conv_mp_layer \n",
    "\n",
    "\n",
    "\"\"\"\n",
    "DON'T MODIFY ANYTHING IN THIS CELL THAT IS BELOW THIS LINE\n",
    "\"\"\"\n",
    "tests.test_con_pool(conv2d_maxpool)"
   ]
  },
  {
   "cell_type": "markdown",
   "metadata": {
    "deletable": true,
    "editable": true
   },
   "source": [
    "### Flatten Layer\n",
    "Implement the `flatten` function to change the dimension of `x_tensor` from a 4-D tensor to a 2-D tensor.  The output should be the shape (*Batch Size*, *Flattened Image Size*). Shortcut option: you can use classes from the [TensorFlow Layers](https://www.tensorflow.org/api_docs/python/tf/layers) or [TensorFlow Layers (contrib)](https://www.tensorflow.org/api_guides/python/contrib.layers) packages for this layer. For more of a challenge, only use other TensorFlow packages."
   ]
  },
  {
   "cell_type": "code",
   "execution_count": 31,
   "metadata": {
    "collapsed": false,
    "deletable": true,
    "editable": true
   },
   "outputs": [
    {
     "name": "stdout",
     "output_type": "stream",
     "text": [
      "Tests Passed\n"
     ]
    }
   ],
   "source": [
    "def flatten(x_tensor):\n",
    "    \"\"\"\n",
    "    Flatten x_tensor to (Batch Size, Flattened Image Size)\n",
    "    : x_tensor: A tensor of size (Batch Size, ...), where ... are the image dimensions.\n",
    "    : return: A tensor of size (Batch Size, Flattened Image Size).\n",
    "    \"\"\"\n",
    "    shape_w = x_tensor.get_shape().as_list()[1]\n",
    "    shape_h = x_tensor.get_shape().as_list()[2]\n",
    "    shape_d = x_tensor.get_shape().as_list()[3]\n",
    "\n",
    "    return tf.reshape(x_tensor, [-1, shape_w*shape_h*shape_d])\n",
    "\n",
    "\n",
    "\"\"\"\n",
    "DON'T MODIFY ANYTHING IN THIS CELL THAT IS BELOW THIS LINE\n",
    "\"\"\"\n",
    "tests.test_flatten(flatten)"
   ]
  },
  {
   "cell_type": "markdown",
   "metadata": {
    "deletable": true,
    "editable": true
   },
   "source": [
    "### Fully-Connected Layer\n",
    "Implement the `fully_conn` function to apply a fully connected layer to `x_tensor` with the shape (*Batch Size*, *num_outputs*). Shortcut option: you can use classes from the [TensorFlow Layers](https://www.tensorflow.org/api_docs/python/tf/layers) or [TensorFlow Layers (contrib)](https://www.tensorflow.org/api_guides/python/contrib.layers) packages for this layer. For more of a challenge, only use other TensorFlow packages."
   ]
  },
  {
   "cell_type": "code",
   "execution_count": 32,
   "metadata": {
    "collapsed": false,
    "deletable": true,
    "editable": true
   },
   "outputs": [
    {
     "name": "stdout",
     "output_type": "stream",
     "text": [
      "Tests Passed\n"
     ]
    }
   ],
   "source": [
    "def fully_conn(x_tensor, outputs_quant):\n",
    "    \"\"\"\n",
    "    Apply a fully connected layer to x_tensor using weight and bias\n",
    "    : x_tensor: A 2-D tensor where the first dimension is batch size.\n",
    "    : outputs_quant: Quantity of outputs that the new tensor should be.\n",
    "    : return: A 2-D tensor where the second dimension is outputs_quant.\n",
    "    \"\"\"\n",
    "    inputs_quant = x_tensor.get_shape().as_list()[1]\n",
    "    weights = tf.Variable(tf.truncated_normal([inputs_quant, outputs_quant], stddev=0.05))\n",
    "    bias = tf.Variable(tf.zeros(outputs_quant))\n",
    "    fully_connected_layer = tf.add(tf.matmul(x_tensor, weights), bias)\n",
    "    # add activation\n",
    "    fully_connected_layer = tf.nn.relu(fully_connected_layer)\n",
    "    return fully_connected_layer\n",
    "\n",
    "\n",
    "\"\"\"\n",
    "DON'T MODIFY ANYTHING IN THIS CELL THAT IS BELOW THIS LINE\n",
    "\"\"\"\n",
    "tests.test_fully_conn(fully_conn)"
   ]
  },
  {
   "cell_type": "markdown",
   "metadata": {
    "deletable": true,
    "editable": true
   },
   "source": [
    "### Output Layer\n",
    "Implement the `output` function to apply a fully connected layer to `x_tensor` with the shape (*Batch Size*, *num_outputs*). Shortcut option: you can use classes from the [TensorFlow Layers](https://www.tensorflow.org/api_docs/python/tf/layers) or [TensorFlow Layers (contrib)](https://www.tensorflow.org/api_guides/python/contrib.layers) packages for this layer. For more of a challenge, only use other TensorFlow packages.\n",
    "\n",
    "**Note:** Activation, softmax, or cross entropy should **not** be applied to this."
   ]
  },
  {
   "cell_type": "code",
   "execution_count": 33,
   "metadata": {
    "collapsed": false,
    "deletable": true,
    "editable": true
   },
   "outputs": [
    {
     "name": "stdout",
     "output_type": "stream",
     "text": [
      "Tests Passed\n"
     ]
    }
   ],
   "source": [
    "def output(x_tensor, outputs_quant):\n",
    "    \"\"\"\n",
    "    Apply a output layer to x_tensor using weight and bias\n",
    "    : x_tensor: A 2-D tensor where the first dimension is batch size.\n",
    "    : outputs_quant: Quantity of outputs that the new tensor should be.\n",
    "    : return: A 2-D tensor where the second dimension is num_outputs.\n",
    "    \"\"\"\n",
    "    inputs_quant = x_tensor.get_shape().as_list()[1]\n",
    "    weights = tf.Variable(tf.truncated_normal([inputs_quant, outputs_quant], stddev=0.05))\n",
    "    bias = tf.Variable(tf.zeros(outputs_quant))\n",
    "    output_layer = tf.add(tf.matmul(x_tensor, weights), bias)\n",
    "    \n",
    "    return output_layer\n",
    "\n",
    "\n",
    "\"\"\"\n",
    "DON'T MODIFY ANYTHING IN THIS CELL THAT IS BELOW THIS LINE\n",
    "\"\"\"\n",
    "tests.test_output(output)"
   ]
  },
  {
   "cell_type": "markdown",
   "metadata": {
    "deletable": true,
    "editable": true
   },
   "source": [
    "### Create Convolutional Model\n",
    "Implement the function `conv_net` to create a convolutional neural network model. The function takes in a batch of images, `x`, and outputs logits.  Use the layers you created above to create this model:\n",
    "\n",
    "* Apply 1, 2, or 3 Convolution and Max Pool layers\n",
    "* Apply a Flatten Layer\n",
    "* Apply 1, 2, or 3 Fully Connected Layers\n",
    "* Apply an Output Layer\n",
    "* Return the output\n",
    "* Apply [TensorFlow's Dropout](https://www.tensorflow.org/api_docs/python/tf/nn/dropout) to one or more layers in the model using `keep_prob`. "
   ]
  },
  {
   "cell_type": "code",
   "execution_count": 34,
   "metadata": {
    "collapsed": false,
    "deletable": true,
    "editable": true
   },
   "outputs": [
    {
     "name": "stdout",
     "output_type": "stream",
     "text": [
      "Neural Network Built!\n"
     ]
    }
   ],
   "source": [
    "def conv_net(x, keep_prob):\n",
    "    \"\"\"\n",
    "    Create a convolutional neural network model\n",
    "    : x: Placeholder tensor that holds image data.\n",
    "    : keep_prob: Placeholder tensor that hold dropout keep probability.\n",
    "    : return: Tensor that represents logits\n",
    "    \"\"\"\n",
    "    # TODO: Apply 1, 2, or 3 Convolution and Max Pool layers\n",
    "    #    Play around with different number of outputs, kernel size and stride\n",
    "    # Function Definition from Above:\n",
    "    #    conv2d_maxpool(x_tensor, conv_num_outputs, conv_ksize, conv_strides, pool_ksize, pool_strides)\n",
    "    output_quant = 16\n",
    "    conv_ksize = [3,3]\n",
    "    conv_strides = [1,1]\n",
    "    pool_ksize = [2,2]\n",
    "    pool_strides = [2,2]\n",
    "    nn = conv2d_maxpool(x, output_quant, conv_ksize, conv_strides, pool_ksize, pool_strides)\n",
    "    \n",
    "    output_quant = 32\n",
    "    conv_ksize = [3,3]\n",
    "    conv_strides = [1,1]\n",
    "    pool_ksize = [2,2]\n",
    "    pool_strides = [2,2]\n",
    "    nn = conv2d_maxpool(nn, output_quant, conv_ksize, conv_strides, pool_ksize, pool_strides)\n",
    "    \n",
    "    output_quant = 64\n",
    "    conv_ksize = [3,3]\n",
    "    conv_strides = [1,1]\n",
    "    pool_ksize = [2,2]\n",
    "    pool_strides = [2,2]\n",
    "    nn = conv2d_maxpool(nn, output_quant, conv_ksize, conv_strides, pool_ksize, pool_strides)\n",
    "\n",
    "    # TODO: Apply a Flatten Layer\n",
    "    # Function Definition from Above:\n",
    "    #   flatten(x_tensor)\n",
    "    nn = flatten(nn)\n",
    "\n",
    "    # TODO: Apply 1, 2, or 3 Fully Connected Layers\n",
    "    #    Play around with different number of outputs\n",
    "    # Function Definition from Above:\n",
    "    #   fully_conn(x_tensor, num_outputs)\n",
    "    nn = fully_conn(nn, 256)\n",
    "    nn = tf.nn.dropout(nn, keep_prob)\n",
    "#     nn = fully_conn(nn, int(output_quant/2))\n",
    "#     nn = tf.nn.dropout(nn, keep_prob)\n",
    "    \n",
    "    # TODO: Apply an Output Layer\n",
    "    #    Set this to the number of classes\n",
    "    # Function Definition from Above:\n",
    "    #   output(x_tensor, num_outputs)\n",
    "    \n",
    "    # this shouldn't be hardcoded....\n",
    "    NUMOUTPUTS = 10\n",
    "    nn = output(nn, NUMOUTPUTS)\n",
    "\n",
    "    # TODO: return output\n",
    "    return nn\n",
    "\n",
    "\n",
    "\"\"\"\n",
    "DON'T MODIFY ANYTHING IN THIS CELL THAT IS BELOW THIS LINE\n",
    "\"\"\"\n",
    "\n",
    "##############################\n",
    "## Build the Neural Network ##\n",
    "##############################\n",
    "\n",
    "# Remove previous weights, bias, inputs, etc..\n",
    "tf.reset_default_graph()\n",
    "\n",
    "# Inputs\n",
    "x = neural_net_image_input((32, 32, 3))\n",
    "y = neural_net_label_input(10)\n",
    "keep_prob = neural_net_keep_prob_input()\n",
    "\n",
    "# Model\n",
    "logits = conv_net(x, keep_prob)\n",
    "\n",
    "# Name logits Tensor, so that is can be loaded from disk after training\n",
    "logits = tf.identity(logits, name='logits')\n",
    "\n",
    "# Loss and Optimizer\n",
    "cost = tf.reduce_mean(tf.nn.softmax_cross_entropy_with_logits(logits=logits, labels=y))\n",
    "optimizer = tf.train.AdamOptimizer().minimize(cost)\n",
    "\n",
    "# Accuracy\n",
    "correct_pred = tf.equal(tf.argmax(logits, 1), tf.argmax(y, 1))\n",
    "accuracy = tf.reduce_mean(tf.cast(correct_pred, tf.float32), name='accuracy')\n",
    "\n",
    "tests.test_conv_net(conv_net)"
   ]
  },
  {
   "cell_type": "markdown",
   "metadata": {
    "deletable": true,
    "editable": true
   },
   "source": [
    "## Train the Neural Network\n",
    "### Single Optimization\n",
    "Implement the function `train_neural_network` to do a single optimization.  The optimization should use `optimizer` to optimize in `session` with a `feed_dict` of the following:\n",
    "* `x` for image input\n",
    "* `y` for labels\n",
    "* `keep_prob` for keep probability for dropout\n",
    "\n",
    "This function will be called for each batch, so `tf.global_variables_initializer()` has already been called.\n",
    "\n",
    "Note: Nothing needs to be returned. This function is only optimizing the neural network."
   ]
  },
  {
   "cell_type": "code",
   "execution_count": 35,
   "metadata": {
    "collapsed": false,
    "deletable": true,
    "editable": true
   },
   "outputs": [
    {
     "name": "stdout",
     "output_type": "stream",
     "text": [
      "Tests Passed\n"
     ]
    }
   ],
   "source": [
    "def train_neural_network(session, optimizer, keep_probability, feature_batch, label_batch):\n",
    "    \"\"\"\n",
    "    Optimize the session on a batch of images and labels\n",
    "    : session: Current TensorFlow session\n",
    "    : optimizer: TensorFlow optimizer function\n",
    "    : keep_probability: keep probability\n",
    "    : feature_batch: Batch of Numpy image data\n",
    "    : label_batch: Batch of Numpy label data\n",
    "    \"\"\"\n",
    "    session.run(optimizer, feed_dict={x: feature_batch, y: label_batch, keep_prob: keep_probability})\n",
    "\n",
    "\n",
    "\"\"\"\n",
    "DON'T MODIFY ANYTHING IN THIS CELL THAT IS BELOW THIS LINE\n",
    "\"\"\"\n",
    "tests.test_train_nn(train_neural_network)"
   ]
  },
  {
   "cell_type": "markdown",
   "metadata": {
    "deletable": true,
    "editable": true
   },
   "source": [
    "### Show Stats\n",
    "Implement the function `print_stats` to print loss and validation accuracy.  Use the global variables `valid_features` and `valid_labels` to calculate validation accuracy.  Use a keep probability of `1.0` to calculate the loss and validation accuracy."
   ]
  },
  {
   "cell_type": "code",
   "execution_count": 36,
   "metadata": {
    "collapsed": false,
    "deletable": true,
    "editable": true
   },
   "outputs": [],
   "source": [
    "def print_stats(session, feature_batch, label_batch, cost, accuracy):\n",
    "    \"\"\"\n",
    "    Print information about loss and validation accuracy\n",
    "    : session: Current TensorFlow session\n",
    "    : feature_batch: Batch of Numpy image data\n",
    "    : label_batch: Batch of Numpy label data\n",
    "    : cost: TensorFlow cost function\n",
    "    : accuracy: TensorFlow accuracy function\n",
    "    \"\"\"\n",
    "    loss_valid_val = session.run(cost, feed_dict={x: feature_batch, y: label_batch, keep_prob: 1.})\n",
    "    acc_valid_val = session.run(accuracy, feed_dict={x: valid_features, y: valid_labels, keep_prob: 1.})\n",
    "    \n",
    "    print('Loss: {:>10.4f} Validation Accuracy: {:.6f}'.format(loss_valid_val, acc_valid_val))"
   ]
  },
  {
   "cell_type": "markdown",
   "metadata": {
    "deletable": true,
    "editable": true
   },
   "source": [
    "### Hyperparameters\n",
    "Tune the following parameters:\n",
    "* Set `epochs` to the number of iterations until the network stops learning or start overfitting\n",
    "* Set `batch_size` to the highest number that your machine has memory for.  Most people set them to common sizes of memory:\n",
    " * 64\n",
    " * 128\n",
    " * 256\n",
    " * ...\n",
    "* Set `keep_probability` to the probability of keeping a node using dropout"
   ]
  },
  {
   "cell_type": "code",
   "execution_count": 39,
   "metadata": {
    "collapsed": true,
    "deletable": true,
    "editable": true
   },
   "outputs": [],
   "source": [
    "# TODO: Tune Parameters\n",
    "epochs = 60\n",
    "batch_size = 512\n",
    "keep_probability = 0.4"
   ]
  },
  {
   "cell_type": "markdown",
   "metadata": {
    "deletable": true,
    "editable": true
   },
   "source": [
    "### Train on a Single CIFAR-10 Batch\n",
    "Instead of training the neural network on all the CIFAR-10 batches of data, let's use a single batch. This should save time while you iterate on the model to get a better accuracy.  Once the final validation accuracy is 50% or greater, run the model on all the data in the next section."
   ]
  },
  {
   "cell_type": "code",
   "execution_count": 40,
   "metadata": {
    "collapsed": false,
    "deletable": true,
    "editable": true
   },
   "outputs": [
    {
     "name": "stdout",
     "output_type": "stream",
     "text": [
      "Checking the Training on a Single Batch...\n",
      "Epoch  1, CIFAR-10 Batch 1:  Loss:     2.2123 Validation Accuracy: 0.227400\n",
      "Epoch  2, CIFAR-10 Batch 1:  Loss:     2.0390 Validation Accuracy: 0.246600\n",
      "Epoch  3, CIFAR-10 Batch 1:  Loss:     1.9196 Validation Accuracy: 0.330800\n",
      "Epoch  4, CIFAR-10 Batch 1:  Loss:     1.8495 Validation Accuracy: 0.359400\n",
      "Epoch  5, CIFAR-10 Batch 1:  Loss:     1.7827 Validation Accuracy: 0.366800\n",
      "Epoch  6, CIFAR-10 Batch 1:  Loss:     1.7459 Validation Accuracy: 0.384400\n",
      "Epoch  7, CIFAR-10 Batch 1:  Loss:     1.7130 Validation Accuracy: 0.388400\n",
      "Epoch  8, CIFAR-10 Batch 1:  Loss:     1.6832 Validation Accuracy: 0.407600\n",
      "Epoch  9, CIFAR-10 Batch 1:  Loss:     1.6460 Validation Accuracy: 0.419600\n",
      "Epoch 10, CIFAR-10 Batch 1:  Loss:     1.6221 Validation Accuracy: 0.429600\n",
      "Epoch 11, CIFAR-10 Batch 1:  Loss:     1.5835 Validation Accuracy: 0.437600\n",
      "Epoch 12, CIFAR-10 Batch 1:  Loss:     1.5549 Validation Accuracy: 0.446200\n",
      "Epoch 13, CIFAR-10 Batch 1:  Loss:     1.5302 Validation Accuracy: 0.451800\n",
      "Epoch 14, CIFAR-10 Batch 1:  Loss:     1.5218 Validation Accuracy: 0.460400\n",
      "Epoch 15, CIFAR-10 Batch 1:  Loss:     1.4797 Validation Accuracy: 0.468200\n",
      "Epoch 16, CIFAR-10 Batch 1:  Loss:     1.4605 Validation Accuracy: 0.464600\n",
      "Epoch 17, CIFAR-10 Batch 1:  Loss:     1.4633 Validation Accuracy: 0.458800\n",
      "Epoch 18, CIFAR-10 Batch 1:  Loss:     1.4213 Validation Accuracy: 0.478200\n",
      "Epoch 19, CIFAR-10 Batch 1:  Loss:     1.4289 Validation Accuracy: 0.484000\n",
      "Epoch 20, CIFAR-10 Batch 1:  Loss:     1.3759 Validation Accuracy: 0.500600\n",
      "Epoch 21, CIFAR-10 Batch 1:  Loss:     1.3445 Validation Accuracy: 0.500800\n",
      "Epoch 22, CIFAR-10 Batch 1:  Loss:     1.3373 Validation Accuracy: 0.490200\n",
      "Epoch 23, CIFAR-10 Batch 1:  Loss:     1.3216 Validation Accuracy: 0.500400\n",
      "Epoch 24, CIFAR-10 Batch 1:  Loss:     1.3181 Validation Accuracy: 0.508200\n",
      "Epoch 25, CIFAR-10 Batch 1:  Loss:     1.2941 Validation Accuracy: 0.512000\n",
      "Epoch 26, CIFAR-10 Batch 1:  Loss:     1.2678 Validation Accuracy: 0.516400\n",
      "Epoch 27, CIFAR-10 Batch 1:  Loss:     1.2600 Validation Accuracy: 0.507800\n",
      "Epoch 28, CIFAR-10 Batch 1:  Loss:     1.2213 Validation Accuracy: 0.525200\n",
      "Epoch 29, CIFAR-10 Batch 1:  Loss:     1.2058 Validation Accuracy: 0.520600\n",
      "Epoch 30, CIFAR-10 Batch 1:  Loss:     1.2036 Validation Accuracy: 0.517600\n",
      "Epoch 31, CIFAR-10 Batch 1:  Loss:     1.1784 Validation Accuracy: 0.521800\n",
      "Epoch 32, CIFAR-10 Batch 1:  Loss:     1.1710 Validation Accuracy: 0.529600\n",
      "Epoch 33, CIFAR-10 Batch 1:  Loss:     1.1624 Validation Accuracy: 0.534600\n",
      "Epoch 34, CIFAR-10 Batch 1:  Loss:     1.1324 Validation Accuracy: 0.539600\n",
      "Epoch 35, CIFAR-10 Batch 1:  Loss:     1.1074 Validation Accuracy: 0.546400\n",
      "Epoch 36, CIFAR-10 Batch 1:  Loss:     1.0914 Validation Accuracy: 0.544600\n",
      "Epoch 37, CIFAR-10 Batch 1:  Loss:     1.0913 Validation Accuracy: 0.548000\n",
      "Epoch 38, CIFAR-10 Batch 1:  Loss:     1.0767 Validation Accuracy: 0.540800\n",
      "Epoch 39, CIFAR-10 Batch 1:  Loss:     1.0483 Validation Accuracy: 0.552800\n",
      "Epoch 40, CIFAR-10 Batch 1:  Loss:     1.0224 Validation Accuracy: 0.553000\n",
      "Epoch 41, CIFAR-10 Batch 1:  Loss:     1.0091 Validation Accuracy: 0.554600\n",
      "Epoch 42, CIFAR-10 Batch 1:  Loss:     1.0065 Validation Accuracy: 0.560800\n",
      "Epoch 43, CIFAR-10 Batch 1:  Loss:     1.0042 Validation Accuracy: 0.561200\n",
      "Epoch 44, CIFAR-10 Batch 1:  Loss:     0.9634 Validation Accuracy: 0.562800\n",
      "Epoch 45, CIFAR-10 Batch 1:  Loss:     0.9778 Validation Accuracy: 0.558400\n",
      "Epoch 46, CIFAR-10 Batch 1:  Loss:     0.9357 Validation Accuracy: 0.566600\n",
      "Epoch 47, CIFAR-10 Batch 1:  Loss:     0.9122 Validation Accuracy: 0.566200\n",
      "Epoch 48, CIFAR-10 Batch 1:  Loss:     0.9014 Validation Accuracy: 0.571000\n",
      "Epoch 49, CIFAR-10 Batch 1:  Loss:     0.8871 Validation Accuracy: 0.575600\n",
      "Epoch 50, CIFAR-10 Batch 1:  Loss:     0.8688 Validation Accuracy: 0.574000\n",
      "Epoch 51, CIFAR-10 Batch 1:  Loss:     0.8558 Validation Accuracy: 0.575000\n",
      "Epoch 52, CIFAR-10 Batch 1:  Loss:     0.8259 Validation Accuracy: 0.581600\n",
      "Epoch 53, CIFAR-10 Batch 1:  Loss:     0.8086 Validation Accuracy: 0.577400\n",
      "Epoch 54, CIFAR-10 Batch 1:  Loss:     0.7820 Validation Accuracy: 0.580800\n",
      "Epoch 55, CIFAR-10 Batch 1:  Loss:     0.7704 Validation Accuracy: 0.582400\n",
      "Epoch 56, CIFAR-10 Batch 1:  Loss:     0.7673 Validation Accuracy: 0.585400\n",
      "Epoch 57, CIFAR-10 Batch 1:  Loss:     0.7456 Validation Accuracy: 0.590400\n",
      "Epoch 58, CIFAR-10 Batch 1:  Loss:     0.7324 Validation Accuracy: 0.585800\n",
      "Epoch 59, CIFAR-10 Batch 1:  Loss:     0.7585 Validation Accuracy: 0.573400\n",
      "Epoch 60, CIFAR-10 Batch 1:  Loss:     0.7131 Validation Accuracy: 0.583800\n"
     ]
    }
   ],
   "source": [
    "\"\"\"\n",
    "DON'T MODIFY ANYTHING IN THIS CELL\n",
    "\"\"\"\n",
    "print('Checking the Training on a Single Batch...')\n",
    "with tf.Session() as sess:\n",
    "    # Initializing the variables\n",
    "    sess.run(tf.global_variables_initializer())\n",
    "    \n",
    "    # Training cycle\n",
    "    for epoch in range(epochs):\n",
    "        batch_i = 1\n",
    "        for batch_features, batch_labels in helper.load_preprocess_training_batch(batch_i, batch_size):\n",
    "            train_neural_network(sess, optimizer, keep_probability, batch_features, batch_labels)\n",
    "        print('Epoch {:>2}, CIFAR-10 Batch {}:  '.format(epoch + 1, batch_i), end='')\n",
    "        print_stats(sess, batch_features, batch_labels, cost, accuracy)"
   ]
  },
  {
   "cell_type": "markdown",
   "metadata": {
    "deletable": true,
    "editable": true
   },
   "source": [
    "### Fully Train the Model\n",
    "Now that you got a good accuracy with a single CIFAR-10 batch, try it with all five batches."
   ]
  },
  {
   "cell_type": "code",
   "execution_count": 41,
   "metadata": {
    "collapsed": false,
    "deletable": true,
    "editable": true
   },
   "outputs": [
    {
     "name": "stdout",
     "output_type": "stream",
     "text": [
      "Training...\n",
      "Epoch  1, CIFAR-10 Batch 1:  Loss:     2.1514 Validation Accuracy: 0.220400\n",
      "Epoch  1, CIFAR-10 Batch 2:  Loss:     1.9796 Validation Accuracy: 0.288000\n",
      "Epoch  1, CIFAR-10 Batch 3:  Loss:     1.7955 Validation Accuracy: 0.338000\n",
      "Epoch  1, CIFAR-10 Batch 4:  Loss:     1.7240 Validation Accuracy: 0.373800\n",
      "Epoch  1, CIFAR-10 Batch 5:  Loss:     1.7389 Validation Accuracy: 0.380400\n",
      "Epoch  2, CIFAR-10 Batch 1:  Loss:     1.7624 Validation Accuracy: 0.388400\n",
      "Epoch  2, CIFAR-10 Batch 2:  Loss:     1.6780 Validation Accuracy: 0.407400\n",
      "Epoch  2, CIFAR-10 Batch 3:  Loss:     1.5192 Validation Accuracy: 0.415800\n",
      "Epoch  2, CIFAR-10 Batch 4:  Loss:     1.5212 Validation Accuracy: 0.428400\n",
      "Epoch  2, CIFAR-10 Batch 5:  Loss:     1.5794 Validation Accuracy: 0.423800\n",
      "Epoch  3, CIFAR-10 Batch 1:  Loss:     1.6438 Validation Accuracy: 0.436400\n",
      "Epoch  3, CIFAR-10 Batch 2:  Loss:     1.5417 Validation Accuracy: 0.445800\n",
      "Epoch  3, CIFAR-10 Batch 3:  Loss:     1.3941 Validation Accuracy: 0.448800\n",
      "Epoch  3, CIFAR-10 Batch 4:  Loss:     1.4227 Validation Accuracy: 0.461000\n",
      "Epoch  3, CIFAR-10 Batch 5:  Loss:     1.5009 Validation Accuracy: 0.454400\n",
      "Epoch  4, CIFAR-10 Batch 1:  Loss:     1.5535 Validation Accuracy: 0.462400\n",
      "Epoch  4, CIFAR-10 Batch 2:  Loss:     1.4560 Validation Accuracy: 0.469800\n",
      "Epoch  4, CIFAR-10 Batch 3:  Loss:     1.3109 Validation Accuracy: 0.473000\n",
      "Epoch  4, CIFAR-10 Batch 4:  Loss:     1.3236 Validation Accuracy: 0.491600\n",
      "Epoch  4, CIFAR-10 Batch 5:  Loss:     1.4071 Validation Accuracy: 0.492200\n",
      "Epoch  5, CIFAR-10 Batch 1:  Loss:     1.4604 Validation Accuracy: 0.496200\n",
      "Epoch  5, CIFAR-10 Batch 2:  Loss:     1.3776 Validation Accuracy: 0.501400\n",
      "Epoch  5, CIFAR-10 Batch 3:  Loss:     1.2334 Validation Accuracy: 0.501800\n",
      "Epoch  5, CIFAR-10 Batch 4:  Loss:     1.2630 Validation Accuracy: 0.511600\n",
      "Epoch  5, CIFAR-10 Batch 5:  Loss:     1.3317 Validation Accuracy: 0.514600\n",
      "Epoch  6, CIFAR-10 Batch 1:  Loss:     1.3847 Validation Accuracy: 0.514000\n",
      "Epoch  6, CIFAR-10 Batch 2:  Loss:     1.2837 Validation Accuracy: 0.529000\n",
      "Epoch  6, CIFAR-10 Batch 3:  Loss:     1.1704 Validation Accuracy: 0.525200\n",
      "Epoch  6, CIFAR-10 Batch 4:  Loss:     1.1956 Validation Accuracy: 0.528600\n",
      "Epoch  6, CIFAR-10 Batch 5:  Loss:     1.2756 Validation Accuracy: 0.529200\n",
      "Epoch  7, CIFAR-10 Batch 1:  Loss:     1.3183 Validation Accuracy: 0.531800\n",
      "Epoch  7, CIFAR-10 Batch 2:  Loss:     1.2211 Validation Accuracy: 0.539400\n",
      "Epoch  7, CIFAR-10 Batch 3:  Loss:     1.1275 Validation Accuracy: 0.540600\n",
      "Epoch  7, CIFAR-10 Batch 4:  Loss:     1.1189 Validation Accuracy: 0.551600\n",
      "Epoch  7, CIFAR-10 Batch 5:  Loss:     1.1990 Validation Accuracy: 0.545400\n",
      "Epoch  8, CIFAR-10 Batch 1:  Loss:     1.2590 Validation Accuracy: 0.550200\n",
      "Epoch  8, CIFAR-10 Batch 2:  Loss:     1.1747 Validation Accuracy: 0.557200\n",
      "Epoch  8, CIFAR-10 Batch 3:  Loss:     1.0658 Validation Accuracy: 0.561800\n",
      "Epoch  8, CIFAR-10 Batch 4:  Loss:     1.0603 Validation Accuracy: 0.564600\n",
      "Epoch  8, CIFAR-10 Batch 5:  Loss:     1.1444 Validation Accuracy: 0.557000\n",
      "Epoch  9, CIFAR-10 Batch 1:  Loss:     1.2146 Validation Accuracy: 0.571800\n",
      "Epoch  9, CIFAR-10 Batch 2:  Loss:     1.1069 Validation Accuracy: 0.579400\n",
      "Epoch  9, CIFAR-10 Batch 3:  Loss:     1.0131 Validation Accuracy: 0.579800\n",
      "Epoch  9, CIFAR-10 Batch 4:  Loss:     1.0055 Validation Accuracy: 0.583000\n",
      "Epoch  9, CIFAR-10 Batch 5:  Loss:     1.0834 Validation Accuracy: 0.585200\n",
      "Epoch 10, CIFAR-10 Batch 1:  Loss:     1.1579 Validation Accuracy: 0.587800\n",
      "Epoch 10, CIFAR-10 Batch 2:  Loss:     1.0700 Validation Accuracy: 0.591200\n",
      "Epoch 10, CIFAR-10 Batch 3:  Loss:     0.9743 Validation Accuracy: 0.587400\n",
      "Epoch 10, CIFAR-10 Batch 4:  Loss:     0.9468 Validation Accuracy: 0.600000\n",
      "Epoch 10, CIFAR-10 Batch 5:  Loss:     1.0449 Validation Accuracy: 0.591200\n",
      "Epoch 11, CIFAR-10 Batch 1:  Loss:     1.1158 Validation Accuracy: 0.599000\n",
      "Epoch 11, CIFAR-10 Batch 2:  Loss:     1.0130 Validation Accuracy: 0.598400\n",
      "Epoch 11, CIFAR-10 Batch 3:  Loss:     0.9569 Validation Accuracy: 0.597800\n",
      "Epoch 11, CIFAR-10 Batch 4:  Loss:     0.9238 Validation Accuracy: 0.607200\n",
      "Epoch 11, CIFAR-10 Batch 5:  Loss:     1.0032 Validation Accuracy: 0.609600\n",
      "Epoch 12, CIFAR-10 Batch 1:  Loss:     1.0854 Validation Accuracy: 0.602000\n",
      "Epoch 12, CIFAR-10 Batch 2:  Loss:     0.9961 Validation Accuracy: 0.604200\n",
      "Epoch 12, CIFAR-10 Batch 3:  Loss:     0.9128 Validation Accuracy: 0.611400\n",
      "Epoch 12, CIFAR-10 Batch 4:  Loss:     0.8707 Validation Accuracy: 0.612800\n",
      "Epoch 12, CIFAR-10 Batch 5:  Loss:     0.9680 Validation Accuracy: 0.611400\n",
      "Epoch 13, CIFAR-10 Batch 1:  Loss:     1.0294 Validation Accuracy: 0.622400\n",
      "Epoch 13, CIFAR-10 Batch 2:  Loss:     0.9489 Validation Accuracy: 0.628200\n",
      "Epoch 13, CIFAR-10 Batch 3:  Loss:     0.8896 Validation Accuracy: 0.614800\n",
      "Epoch 13, CIFAR-10 Batch 4:  Loss:     0.8329 Validation Accuracy: 0.625800\n",
      "Epoch 13, CIFAR-10 Batch 5:  Loss:     0.9138 Validation Accuracy: 0.624400\n",
      "Epoch 14, CIFAR-10 Batch 1:  Loss:     1.0085 Validation Accuracy: 0.626800\n",
      "Epoch 14, CIFAR-10 Batch 2:  Loss:     0.9042 Validation Accuracy: 0.632000\n",
      "Epoch 14, CIFAR-10 Batch 3:  Loss:     0.8565 Validation Accuracy: 0.621000\n",
      "Epoch 14, CIFAR-10 Batch 4:  Loss:     0.8033 Validation Accuracy: 0.636200\n",
      "Epoch 14, CIFAR-10 Batch 5:  Loss:     0.8884 Validation Accuracy: 0.631200\n",
      "Epoch 15, CIFAR-10 Batch 1:  Loss:     0.9699 Validation Accuracy: 0.640600\n",
      "Epoch 15, CIFAR-10 Batch 2:  Loss:     0.8890 Validation Accuracy: 0.636800\n",
      "Epoch 15, CIFAR-10 Batch 3:  Loss:     0.8142 Validation Accuracy: 0.636400\n",
      "Epoch 15, CIFAR-10 Batch 4:  Loss:     0.7738 Validation Accuracy: 0.636000\n",
      "Epoch 15, CIFAR-10 Batch 5:  Loss:     0.8499 Validation Accuracy: 0.639200\n",
      "Epoch 16, CIFAR-10 Batch 1:  Loss:     0.9442 Validation Accuracy: 0.640000\n",
      "Epoch 16, CIFAR-10 Batch 2:  Loss:     0.8776 Validation Accuracy: 0.641200\n",
      "Epoch 16, CIFAR-10 Batch 3:  Loss:     0.7994 Validation Accuracy: 0.641600\n",
      "Epoch 16, CIFAR-10 Batch 4:  Loss:     0.7572 Validation Accuracy: 0.635000\n",
      "Epoch 16, CIFAR-10 Batch 5:  Loss:     0.8214 Validation Accuracy: 0.646800\n",
      "Epoch 17, CIFAR-10 Batch 1:  Loss:     0.9114 Validation Accuracy: 0.643200\n",
      "Epoch 17, CIFAR-10 Batch 2:  Loss:     0.8233 Validation Accuracy: 0.653000\n",
      "Epoch 17, CIFAR-10 Batch 3:  Loss:     0.7848 Validation Accuracy: 0.638600\n",
      "Epoch 17, CIFAR-10 Batch 4:  Loss:     0.7118 Validation Accuracy: 0.655200\n",
      "Epoch 17, CIFAR-10 Batch 5:  Loss:     0.8120 Validation Accuracy: 0.652600\n",
      "Epoch 18, CIFAR-10 Batch 1:  Loss:     0.8865 Validation Accuracy: 0.649600\n",
      "Epoch 18, CIFAR-10 Batch 2:  Loss:     0.8420 Validation Accuracy: 0.638600\n",
      "Epoch 18, CIFAR-10 Batch 3:  Loss:     0.7436 Validation Accuracy: 0.649200\n",
      "Epoch 18, CIFAR-10 Batch 4:  Loss:     0.6842 Validation Accuracy: 0.659400\n",
      "Epoch 18, CIFAR-10 Batch 5:  Loss:     0.7642 Validation Accuracy: 0.659600\n",
      "Epoch 19, CIFAR-10 Batch 1:  Loss:     0.8396 Validation Accuracy: 0.657600\n",
      "Epoch 19, CIFAR-10 Batch 2:  Loss:     0.7855 Validation Accuracy: 0.658600\n",
      "Epoch 19, CIFAR-10 Batch 3:  Loss:     0.7168 Validation Accuracy: 0.655200\n",
      "Epoch 19, CIFAR-10 Batch 4:  Loss:     0.6783 Validation Accuracy: 0.662000\n",
      "Epoch 19, CIFAR-10 Batch 5:  Loss:     0.7579 Validation Accuracy: 0.659800\n",
      "Epoch 20, CIFAR-10 Batch 1:  Loss:     0.8411 Validation Accuracy: 0.643000\n",
      "Epoch 20, CIFAR-10 Batch 2:  Loss:     0.7871 Validation Accuracy: 0.653400\n",
      "Epoch 20, CIFAR-10 Batch 3:  Loss:     0.7184 Validation Accuracy: 0.665000\n",
      "Epoch 20, CIFAR-10 Batch 4:  Loss:     0.6405 Validation Accuracy: 0.667800\n",
      "Epoch 20, CIFAR-10 Batch 5:  Loss:     0.7408 Validation Accuracy: 0.672800\n",
      "Epoch 21, CIFAR-10 Batch 1:  Loss:     0.7897 Validation Accuracy: 0.662200\n",
      "Epoch 21, CIFAR-10 Batch 2:  Loss:     0.7834 Validation Accuracy: 0.655400\n",
      "Epoch 21, CIFAR-10 Batch 3:  Loss:     0.6834 Validation Accuracy: 0.670400\n",
      "Epoch 21, CIFAR-10 Batch 4:  Loss:     0.6255 Validation Accuracy: 0.672400\n",
      "Epoch 21, CIFAR-10 Batch 5:  Loss:     0.7339 Validation Accuracy: 0.664400\n",
      "Epoch 22, CIFAR-10 Batch 1:  Loss:     0.7785 Validation Accuracy: 0.665000\n",
      "Epoch 22, CIFAR-10 Batch 2:  Loss:     0.7378 Validation Accuracy: 0.663200\n",
      "Epoch 22, CIFAR-10 Batch 3:  Loss:     0.6785 Validation Accuracy: 0.673000\n",
      "Epoch 22, CIFAR-10 Batch 4:  Loss:     0.6062 Validation Accuracy: 0.678200\n",
      "Epoch 22, CIFAR-10 Batch 5:  Loss:     0.6818 Validation Accuracy: 0.676200\n",
      "Epoch 23, CIFAR-10 Batch 1:  Loss:     0.7528 Validation Accuracy: 0.676200\n",
      "Epoch 23, CIFAR-10 Batch 2:  Loss:     0.7250 Validation Accuracy: 0.664600\n",
      "Epoch 23, CIFAR-10 Batch 3:  Loss:     0.6636 Validation Accuracy: 0.675800\n",
      "Epoch 23, CIFAR-10 Batch 4:  Loss:     0.6124 Validation Accuracy: 0.670600\n",
      "Epoch 23, CIFAR-10 Batch 5:  Loss:     0.7142 Validation Accuracy: 0.664000\n",
      "Epoch 24, CIFAR-10 Batch 1:  Loss:     0.7451 Validation Accuracy: 0.673800\n",
      "Epoch 24, CIFAR-10 Batch 2:  Loss:     0.6849 Validation Accuracy: 0.674600\n",
      "Epoch 24, CIFAR-10 Batch 3:  Loss:     0.6494 Validation Accuracy: 0.679400\n",
      "Epoch 24, CIFAR-10 Batch 4:  Loss:     0.5891 Validation Accuracy: 0.673200\n",
      "Epoch 24, CIFAR-10 Batch 5:  Loss:     0.6608 Validation Accuracy: 0.677600\n",
      "Epoch 25, CIFAR-10 Batch 1:  Loss:     0.7125 Validation Accuracy: 0.683600\n",
      "Epoch 25, CIFAR-10 Batch 2:  Loss:     0.6621 Validation Accuracy: 0.675600\n",
      "Epoch 25, CIFAR-10 Batch 3:  Loss:     0.6040 Validation Accuracy: 0.683600\n",
      "Epoch 25, CIFAR-10 Batch 4:  Loss:     0.5427 Validation Accuracy: 0.683000\n",
      "Epoch 25, CIFAR-10 Batch 5:  Loss:     0.6471 Validation Accuracy: 0.674000\n",
      "Epoch 26, CIFAR-10 Batch 1:  Loss:     0.6956 Validation Accuracy: 0.694200\n",
      "Epoch 26, CIFAR-10 Batch 2:  Loss:     0.6587 Validation Accuracy: 0.673400\n",
      "Epoch 26, CIFAR-10 Batch 3:  Loss:     0.6022 Validation Accuracy: 0.690800\n",
      "Epoch 26, CIFAR-10 Batch 4:  Loss:     0.5549 Validation Accuracy: 0.692200\n",
      "Epoch 26, CIFAR-10 Batch 5:  Loss:     0.6123 Validation Accuracy: 0.684600\n",
      "Epoch 27, CIFAR-10 Batch 1:  Loss:     0.6845 Validation Accuracy: 0.683800\n",
      "Epoch 27, CIFAR-10 Batch 2:  Loss:     0.6574 Validation Accuracy: 0.686400\n",
      "Epoch 27, CIFAR-10 Batch 3:  Loss:     0.5903 Validation Accuracy: 0.688000\n",
      "Epoch 27, CIFAR-10 Batch 4:  Loss:     0.5298 Validation Accuracy: 0.695000\n",
      "Epoch 27, CIFAR-10 Batch 5:  Loss:     0.5787 Validation Accuracy: 0.687200\n",
      "Epoch 28, CIFAR-10 Batch 1:  Loss:     0.6656 Validation Accuracy: 0.687000\n",
      "Epoch 28, CIFAR-10 Batch 2:  Loss:     0.6095 Validation Accuracy: 0.693800\n",
      "Epoch 28, CIFAR-10 Batch 3:  Loss:     0.6234 Validation Accuracy: 0.673400\n",
      "Epoch 28, CIFAR-10 Batch 4:  Loss:     0.5132 Validation Accuracy: 0.689800\n",
      "Epoch 28, CIFAR-10 Batch 5:  Loss:     0.5692 Validation Accuracy: 0.690200\n",
      "Epoch 29, CIFAR-10 Batch 1:  Loss:     0.6385 Validation Accuracy: 0.682400\n",
      "Epoch 29, CIFAR-10 Batch 2:  Loss:     0.5971 Validation Accuracy: 0.702200\n",
      "Epoch 29, CIFAR-10 Batch 3:  Loss:     0.5802 Validation Accuracy: 0.684200\n",
      "Epoch 29, CIFAR-10 Batch 4:  Loss:     0.5240 Validation Accuracy: 0.683200\n",
      "Epoch 29, CIFAR-10 Batch 5:  Loss:     0.5594 Validation Accuracy: 0.694400\n",
      "Epoch 30, CIFAR-10 Batch 1:  Loss:     0.6100 Validation Accuracy: 0.695400\n",
      "Epoch 30, CIFAR-10 Batch 2:  Loss:     0.5849 Validation Accuracy: 0.697800\n",
      "Epoch 30, CIFAR-10 Batch 3:  Loss:     0.5596 Validation Accuracy: 0.693200\n",
      "Epoch 30, CIFAR-10 Batch 4:  Loss:     0.5084 Validation Accuracy: 0.682800\n",
      "Epoch 30, CIFAR-10 Batch 5:  Loss:     0.5323 Validation Accuracy: 0.697400\n",
      "Epoch 31, CIFAR-10 Batch 1:  Loss:     0.5928 Validation Accuracy: 0.692600\n",
      "Epoch 31, CIFAR-10 Batch 2:  Loss:     0.6045 Validation Accuracy: 0.700400\n",
      "Epoch 31, CIFAR-10 Batch 3:  Loss:     0.5535 Validation Accuracy: 0.691600\n",
      "Epoch 31, CIFAR-10 Batch 4:  Loss:     0.5017 Validation Accuracy: 0.680800\n",
      "Epoch 31, CIFAR-10 Batch 5:  Loss:     0.5123 Validation Accuracy: 0.706400\n",
      "Epoch 32, CIFAR-10 Batch 1:  Loss:     0.5692 Validation Accuracy: 0.688200\n",
      "Epoch 32, CIFAR-10 Batch 2:  Loss:     0.5552 Validation Accuracy: 0.700000\n",
      "Epoch 32, CIFAR-10 Batch 3:  Loss:     0.5494 Validation Accuracy: 0.690600\n",
      "Epoch 32, CIFAR-10 Batch 4:  Loss:     0.4763 Validation Accuracy: 0.687200\n",
      "Epoch 32, CIFAR-10 Batch 5:  Loss:     0.4908 Validation Accuracy: 0.705400\n",
      "Epoch 33, CIFAR-10 Batch 1:  Loss:     0.5614 Validation Accuracy: 0.680400\n",
      "Epoch 33, CIFAR-10 Batch 2:  Loss:     0.5787 Validation Accuracy: 0.699000\n",
      "Epoch 33, CIFAR-10 Batch 3:  Loss:     0.5081 Validation Accuracy: 0.694600\n",
      "Epoch 33, CIFAR-10 Batch 4:  Loss:     0.4513 Validation Accuracy: 0.692000\n",
      "Epoch 33, CIFAR-10 Batch 5:  Loss:     0.4761 Validation Accuracy: 0.710600\n",
      "Epoch 34, CIFAR-10 Batch 1:  Loss:     0.5319 Validation Accuracy: 0.685800\n",
      "Epoch 34, CIFAR-10 Batch 2:  Loss:     0.5415 Validation Accuracy: 0.703400\n",
      "Epoch 34, CIFAR-10 Batch 3:  Loss:     0.5157 Validation Accuracy: 0.692400\n",
      "Epoch 34, CIFAR-10 Batch 4:  Loss:     0.4288 Validation Accuracy: 0.703000\n",
      "Epoch 34, CIFAR-10 Batch 5:  Loss:     0.4542 Validation Accuracy: 0.710400\n",
      "Epoch 35, CIFAR-10 Batch 1:  Loss:     0.5311 Validation Accuracy: 0.697600\n",
      "Epoch 35, CIFAR-10 Batch 2:  Loss:     0.5591 Validation Accuracy: 0.696600\n",
      "Epoch 35, CIFAR-10 Batch 3:  Loss:     0.4836 Validation Accuracy: 0.698800\n",
      "Epoch 35, CIFAR-10 Batch 4:  Loss:     0.4185 Validation Accuracy: 0.708200\n",
      "Epoch 35, CIFAR-10 Batch 5:  Loss:     0.4507 Validation Accuracy: 0.702200\n",
      "Epoch 36, CIFAR-10 Batch 1:  Loss:     0.5198 Validation Accuracy: 0.697600\n",
      "Epoch 36, CIFAR-10 Batch 2:  Loss:     0.5225 Validation Accuracy: 0.704400\n",
      "Epoch 36, CIFAR-10 Batch 3:  Loss:     0.4751 Validation Accuracy: 0.699000\n",
      "Epoch 36, CIFAR-10 Batch 4:  Loss:     0.3991 Validation Accuracy: 0.698200\n",
      "Epoch 36, CIFAR-10 Batch 5:  Loss:     0.4442 Validation Accuracy: 0.704400\n",
      "Epoch 37, CIFAR-10 Batch 1:  Loss:     0.4978 Validation Accuracy: 0.692800\n",
      "Epoch 37, CIFAR-10 Batch 2:  Loss:     0.5184 Validation Accuracy: 0.705200\n",
      "Epoch 37, CIFAR-10 Batch 3:  Loss:     0.4341 Validation Accuracy: 0.714000\n",
      "Epoch 37, CIFAR-10 Batch 4:  Loss:     0.3915 Validation Accuracy: 0.704400\n",
      "Epoch 37, CIFAR-10 Batch 5:  Loss:     0.4107 Validation Accuracy: 0.705600\n",
      "Epoch 38, CIFAR-10 Batch 1:  Loss:     0.4618 Validation Accuracy: 0.699600\n",
      "Epoch 38, CIFAR-10 Batch 2:  Loss:     0.4984 Validation Accuracy: 0.704000\n",
      "Epoch 38, CIFAR-10 Batch 3:  Loss:     0.4103 Validation Accuracy: 0.712200\n",
      "Epoch 38, CIFAR-10 Batch 4:  Loss:     0.3925 Validation Accuracy: 0.701400\n",
      "Epoch 38, CIFAR-10 Batch 5:  Loss:     0.4091 Validation Accuracy: 0.703200\n",
      "Epoch 39, CIFAR-10 Batch 1:  Loss:     0.4629 Validation Accuracy: 0.703600\n",
      "Epoch 39, CIFAR-10 Batch 2:  Loss:     0.4695 Validation Accuracy: 0.710000\n",
      "Epoch 39, CIFAR-10 Batch 3:  Loss:     0.4089 Validation Accuracy: 0.710600\n",
      "Epoch 39, CIFAR-10 Batch 4:  Loss:     0.3684 Validation Accuracy: 0.707800\n",
      "Epoch 39, CIFAR-10 Batch 5:  Loss:     0.4119 Validation Accuracy: 0.709000\n",
      "Epoch 40, CIFAR-10 Batch 1:  Loss:     0.4507 Validation Accuracy: 0.706600\n",
      "Epoch 40, CIFAR-10 Batch 2:  Loss:     0.4473 Validation Accuracy: 0.715400\n",
      "Epoch 40, CIFAR-10 Batch 3:  Loss:     0.3765 Validation Accuracy: 0.716600\n",
      "Epoch 40, CIFAR-10 Batch 4:  Loss:     0.3616 Validation Accuracy: 0.708400\n",
      "Epoch 40, CIFAR-10 Batch 5:  Loss:     0.3845 Validation Accuracy: 0.715400\n",
      "Epoch 41, CIFAR-10 Batch 1:  Loss:     0.4239 Validation Accuracy: 0.711400\n",
      "Epoch 41, CIFAR-10 Batch 2:  Loss:     0.4423 Validation Accuracy: 0.714200\n",
      "Epoch 41, CIFAR-10 Batch 3:  Loss:     0.3831 Validation Accuracy: 0.712200\n",
      "Epoch 41, CIFAR-10 Batch 4:  Loss:     0.3508 Validation Accuracy: 0.702200\n",
      "Epoch 41, CIFAR-10 Batch 5:  Loss:     0.3620 Validation Accuracy: 0.709200\n",
      "Epoch 42, CIFAR-10 Batch 1:  Loss:     0.4481 Validation Accuracy: 0.698400\n",
      "Epoch 42, CIFAR-10 Batch 2:  Loss:     0.4712 Validation Accuracy: 0.701600\n",
      "Epoch 42, CIFAR-10 Batch 3:  Loss:     0.3962 Validation Accuracy: 0.701200\n",
      "Epoch 42, CIFAR-10 Batch 4:  Loss:     0.3399 Validation Accuracy: 0.710400\n",
      "Epoch 42, CIFAR-10 Batch 5:  Loss:     0.3481 Validation Accuracy: 0.711200\n",
      "Epoch 43, CIFAR-10 Batch 1:  Loss:     0.4111 Validation Accuracy: 0.699200\n",
      "Epoch 43, CIFAR-10 Batch 2:  Loss:     0.4521 Validation Accuracy: 0.706200\n",
      "Epoch 43, CIFAR-10 Batch 3:  Loss:     0.3799 Validation Accuracy: 0.710200\n",
      "Epoch 43, CIFAR-10 Batch 4:  Loss:     0.3180 Validation Accuracy: 0.717800\n",
      "Epoch 43, CIFAR-10 Batch 5:  Loss:     0.3457 Validation Accuracy: 0.710000\n",
      "Epoch 44, CIFAR-10 Batch 1:  Loss:     0.3904 Validation Accuracy: 0.710400\n",
      "Epoch 44, CIFAR-10 Batch 2:  Loss:     0.4291 Validation Accuracy: 0.702800\n",
      "Epoch 44, CIFAR-10 Batch 3:  Loss:     0.3762 Validation Accuracy: 0.708600\n",
      "Epoch 44, CIFAR-10 Batch 4:  Loss:     0.3216 Validation Accuracy: 0.713400\n",
      "Epoch 44, CIFAR-10 Batch 5:  Loss:     0.3201 Validation Accuracy: 0.724800\n",
      "Epoch 45, CIFAR-10 Batch 1:  Loss:     0.3728 Validation Accuracy: 0.708400\n",
      "Epoch 45, CIFAR-10 Batch 2:  Loss:     0.3848 Validation Accuracy: 0.714400\n",
      "Epoch 45, CIFAR-10 Batch 3:  Loss:     0.3372 Validation Accuracy: 0.720000\n",
      "Epoch 45, CIFAR-10 Batch 4:  Loss:     0.3055 Validation Accuracy: 0.720800\n",
      "Epoch 45, CIFAR-10 Batch 5:  Loss:     0.3148 Validation Accuracy: 0.722400\n",
      "Epoch 46, CIFAR-10 Batch 1:  Loss:     0.3676 Validation Accuracy: 0.710600\n",
      "Epoch 46, CIFAR-10 Batch 2:  Loss:     0.3689 Validation Accuracy: 0.712000\n",
      "Epoch 46, CIFAR-10 Batch 3:  Loss:     0.3224 Validation Accuracy: 0.720000\n",
      "Epoch 46, CIFAR-10 Batch 4:  Loss:     0.2872 Validation Accuracy: 0.713400\n",
      "Epoch 46, CIFAR-10 Batch 5:  Loss:     0.3198 Validation Accuracy: 0.717600\n",
      "Epoch 47, CIFAR-10 Batch 1:  Loss:     0.3369 Validation Accuracy: 0.712200\n",
      "Epoch 47, CIFAR-10 Batch 2:  Loss:     0.3560 Validation Accuracy: 0.715000\n",
      "Epoch 47, CIFAR-10 Batch 3:  Loss:     0.3090 Validation Accuracy: 0.717600\n",
      "Epoch 47, CIFAR-10 Batch 4:  Loss:     0.2860 Validation Accuracy: 0.717000\n",
      "Epoch 47, CIFAR-10 Batch 5:  Loss:     0.2945 Validation Accuracy: 0.720800\n",
      "Epoch 48, CIFAR-10 Batch 1:  Loss:     0.3626 Validation Accuracy: 0.698800\n",
      "Epoch 48, CIFAR-10 Batch 2:  Loss:     0.3611 Validation Accuracy: 0.707400\n",
      "Epoch 48, CIFAR-10 Batch 3:  Loss:     0.2988 Validation Accuracy: 0.722600\n",
      "Epoch 48, CIFAR-10 Batch 4:  Loss:     0.2883 Validation Accuracy: 0.719000\n",
      "Epoch 48, CIFAR-10 Batch 5:  Loss:     0.2892 Validation Accuracy: 0.720400\n",
      "Epoch 49, CIFAR-10 Batch 1:  Loss:     0.3303 Validation Accuracy: 0.711800\n",
      "Epoch 49, CIFAR-10 Batch 2:  Loss:     0.3456 Validation Accuracy: 0.714600\n",
      "Epoch 49, CIFAR-10 Batch 3:  Loss:     0.2868 Validation Accuracy: 0.718000\n",
      "Epoch 49, CIFAR-10 Batch 4:  Loss:     0.2846 Validation Accuracy: 0.713200\n",
      "Epoch 49, CIFAR-10 Batch 5:  Loss:     0.2800 Validation Accuracy: 0.716600\n",
      "Epoch 50, CIFAR-10 Batch 1:  Loss:     0.3339 Validation Accuracy: 0.701800\n",
      "Epoch 50, CIFAR-10 Batch 2:  Loss:     0.3528 Validation Accuracy: 0.711800\n",
      "Epoch 50, CIFAR-10 Batch 3:  Loss:     0.2965 Validation Accuracy: 0.721600\n",
      "Epoch 50, CIFAR-10 Batch 4:  Loss:     0.2783 Validation Accuracy: 0.721000\n",
      "Epoch 50, CIFAR-10 Batch 5:  Loss:     0.2909 Validation Accuracy: 0.715600\n",
      "Epoch 51, CIFAR-10 Batch 1:  Loss:     0.3110 Validation Accuracy: 0.714800\n",
      "Epoch 51, CIFAR-10 Batch 2:  Loss:     0.3280 Validation Accuracy: 0.713800\n",
      "Epoch 51, CIFAR-10 Batch 3:  Loss:     0.3076 Validation Accuracy: 0.710600\n",
      "Epoch 51, CIFAR-10 Batch 4:  Loss:     0.2752 Validation Accuracy: 0.716200\n",
      "Epoch 51, CIFAR-10 Batch 5:  Loss:     0.2879 Validation Accuracy: 0.716200\n",
      "Epoch 52, CIFAR-10 Batch 1:  Loss:     0.3204 Validation Accuracy: 0.708600\n",
      "Epoch 52, CIFAR-10 Batch 2:  Loss:     0.3222 Validation Accuracy: 0.713400\n",
      "Epoch 52, CIFAR-10 Batch 3:  Loss:     0.3080 Validation Accuracy: 0.713800\n",
      "Epoch 52, CIFAR-10 Batch 4:  Loss:     0.2725 Validation Accuracy: 0.716000\n",
      "Epoch 52, CIFAR-10 Batch 5:  Loss:     0.2632 Validation Accuracy: 0.716800\n",
      "Epoch 53, CIFAR-10 Batch 1:  Loss:     0.2986 Validation Accuracy: 0.716200\n",
      "Epoch 53, CIFAR-10 Batch 2:  Loss:     0.3051 Validation Accuracy: 0.714200\n",
      "Epoch 53, CIFAR-10 Batch 3:  Loss:     0.2905 Validation Accuracy: 0.715000\n",
      "Epoch 53, CIFAR-10 Batch 4:  Loss:     0.2711 Validation Accuracy: 0.721200\n",
      "Epoch 53, CIFAR-10 Batch 5:  Loss:     0.2746 Validation Accuracy: 0.712800\n",
      "Epoch 54, CIFAR-10 Batch 1:  Loss:     0.2815 Validation Accuracy: 0.712200\n",
      "Epoch 54, CIFAR-10 Batch 2:  Loss:     0.3126 Validation Accuracy: 0.719000\n",
      "Epoch 54, CIFAR-10 Batch 3:  Loss:     0.2778 Validation Accuracy: 0.714600\n",
      "Epoch 54, CIFAR-10 Batch 4:  Loss:     0.2761 Validation Accuracy: 0.719000\n",
      "Epoch 54, CIFAR-10 Batch 5:  Loss:     0.2682 Validation Accuracy: 0.717800\n",
      "Epoch 55, CIFAR-10 Batch 1:  Loss:     0.2982 Validation Accuracy: 0.703200\n",
      "Epoch 55, CIFAR-10 Batch 2:  Loss:     0.2865 Validation Accuracy: 0.723000\n",
      "Epoch 55, CIFAR-10 Batch 3:  Loss:     0.2745 Validation Accuracy: 0.722200\n",
      "Epoch 55, CIFAR-10 Batch 4:  Loss:     0.2617 Validation Accuracy: 0.720000\n",
      "Epoch 55, CIFAR-10 Batch 5:  Loss:     0.2633 Validation Accuracy: 0.712000\n",
      "Epoch 56, CIFAR-10 Batch 1:  Loss:     0.2939 Validation Accuracy: 0.706800\n",
      "Epoch 56, CIFAR-10 Batch 2:  Loss:     0.2941 Validation Accuracy: 0.715200\n",
      "Epoch 56, CIFAR-10 Batch 3:  Loss:     0.2764 Validation Accuracy: 0.716400\n",
      "Epoch 56, CIFAR-10 Batch 4:  Loss:     0.2656 Validation Accuracy: 0.717400\n",
      "Epoch 56, CIFAR-10 Batch 5:  Loss:     0.2531 Validation Accuracy: 0.706800\n",
      "Epoch 57, CIFAR-10 Batch 1:  Loss:     0.2710 Validation Accuracy: 0.719200\n",
      "Epoch 57, CIFAR-10 Batch 2:  Loss:     0.3220 Validation Accuracy: 0.702000\n",
      "Epoch 57, CIFAR-10 Batch 3:  Loss:     0.2627 Validation Accuracy: 0.718400\n",
      "Epoch 57, CIFAR-10 Batch 4:  Loss:     0.2449 Validation Accuracy: 0.728800\n",
      "Epoch 57, CIFAR-10 Batch 5:  Loss:     0.2260 Validation Accuracy: 0.716200\n",
      "Epoch 58, CIFAR-10 Batch 1:  Loss:     0.2598 Validation Accuracy: 0.724400\n",
      "Epoch 58, CIFAR-10 Batch 2:  Loss:     0.3025 Validation Accuracy: 0.709000\n",
      "Epoch 58, CIFAR-10 Batch 3:  Loss:     0.2757 Validation Accuracy: 0.711800\n",
      "Epoch 58, CIFAR-10 Batch 4:  Loss:     0.2549 Validation Accuracy: 0.725200\n",
      "Epoch 58, CIFAR-10 Batch 5:  Loss:     0.2484 Validation Accuracy: 0.710800\n",
      "Epoch 59, CIFAR-10 Batch 1:  Loss:     0.2681 Validation Accuracy: 0.723000\n",
      "Epoch 59, CIFAR-10 Batch 2:  Loss:     0.2901 Validation Accuracy: 0.704600\n",
      "Epoch 59, CIFAR-10 Batch 3:  Loss:     0.2689 Validation Accuracy: 0.720800\n",
      "Epoch 59, CIFAR-10 Batch 4:  Loss:     0.2525 Validation Accuracy: 0.727400\n",
      "Epoch 59, CIFAR-10 Batch 5:  Loss:     0.2602 Validation Accuracy: 0.711600\n",
      "Epoch 60, CIFAR-10 Batch 1:  Loss:     0.2773 Validation Accuracy: 0.722000\n",
      "Epoch 60, CIFAR-10 Batch 2:  Loss:     0.2701 Validation Accuracy: 0.717600\n",
      "Epoch 60, CIFAR-10 Batch 3:  Loss:     0.2411 Validation Accuracy: 0.723600\n",
      "Epoch 60, CIFAR-10 Batch 4:  Loss:     0.2587 Validation Accuracy: 0.719200\n",
      "Epoch 60, CIFAR-10 Batch 5:  Loss:     0.2098 Validation Accuracy: 0.723400\n"
     ]
    }
   ],
   "source": [
    "\"\"\"\n",
    "DON'T MODIFY ANYTHING IN THIS CELL\n",
    "\"\"\"\n",
    "save_model_path = './image_classification'\n",
    "\n",
    "print('Training...')\n",
    "with tf.Session() as sess:\n",
    "    # Initializing the variables\n",
    "    sess.run(tf.global_variables_initializer())\n",
    "    \n",
    "    # Training cycle\n",
    "    for epoch in range(epochs):\n",
    "        # Loop over all batches\n",
    "        n_batches = 5\n",
    "        for batch_i in range(1, n_batches + 1):\n",
    "            for batch_features, batch_labels in helper.load_preprocess_training_batch(batch_i, batch_size):\n",
    "                train_neural_network(sess, optimizer, keep_probability, batch_features, batch_labels)\n",
    "            print('Epoch {:>2}, CIFAR-10 Batch {}:  '.format(epoch + 1, batch_i), end='')\n",
    "            print_stats(sess, batch_features, batch_labels, cost, accuracy)\n",
    "            \n",
    "    # Save Model\n",
    "    saver = tf.train.Saver()\n",
    "    save_path = saver.save(sess, save_model_path)"
   ]
  },
  {
   "cell_type": "markdown",
   "metadata": {
    "deletable": true,
    "editable": true
   },
   "source": [
    "# Checkpoint\n",
    "The model has been saved to disk.\n",
    "## Test Model\n",
    "Test your model against the test dataset.  This will be your final accuracy. You should have an accuracy greater than 50%. If you don't, keep tweaking the model architecture and parameters."
   ]
  },
  {
   "cell_type": "code",
   "execution_count": 42,
   "metadata": {
    "collapsed": false,
    "deletable": true,
    "editable": true
   },
   "outputs": [
    {
     "name": "stdout",
     "output_type": "stream",
     "text": [
      "Testing Accuracy: 0.7155101120471954\n",
      "\n"
     ]
    },
    {
     "data": {
      "image/png": "[encoded data removed]",
      "text/plain": [
       "<matplotlib.figure.Figure at 0x7f368ad4bf28>"
      ]
     },
     "metadata": {
      "image/png": {
       "height": 319,
       "width": 355
      }
     },
     "output_type": "display_data"
    }
   ],
   "source": [
    "\"\"\"\n",
    "DON'T MODIFY ANYTHING IN THIS CELL\n",
    "\"\"\"\n",
    "%matplotlib inline\n",
    "%config InlineBackend.figure_format = 'retina'\n",
    "\n",
    "import tensorflow as tf\n",
    "import pickle\n",
    "import helper\n",
    "import random\n",
    "\n",
    "# Set batch size if not already set\n",
    "try:\n",
    "    if batch_size:\n",
    "        pass\n",
    "except NameError:\n",
    "    batch_size = 64\n",
    "\n",
    "save_model_path = './image_classification'\n",
    "n_samples = 4\n",
    "top_n_predictions = 3\n",
    "\n",
    "def test_model():\n",
    "    \"\"\"\n",
    "    Test the saved model against the test dataset\n",
    "    \"\"\"\n",
    "\n",
    "    test_features, test_labels = pickle.load(open('preprocess_training.p', mode='rb'))\n",
    "    loaded_graph = tf.Graph()\n",
    "\n",
    "    with tf.Session(graph=loaded_graph) as sess:\n",
    "        # Load model\n",
    "        loader = tf.train.import_meta_graph(save_model_path + '.meta')\n",
    "        loader.restore(sess, save_model_path)\n",
    "\n",
    "        # Get Tensors from loaded model\n",
    "        loaded_x = loaded_graph.get_tensor_by_name('x:0')\n",
    "        loaded_y = loaded_graph.get_tensor_by_name('y:0')\n",
    "        loaded_keep_prob = loaded_graph.get_tensor_by_name('keep_prob:0')\n",
    "        loaded_logits = loaded_graph.get_tensor_by_name('logits:0')\n",
    "        loaded_acc = loaded_graph.get_tensor_by_name('accuracy:0')\n",
    "        \n",
    "        # Get accuracy in batches for memory limitations\n",
    "        test_batch_acc_total = 0\n",
    "        test_batch_count = 0\n",
    "        \n",
    "        for train_feature_batch, train_label_batch in helper.batch_features_labels(test_features, test_labels, batch_size):\n",
    "            test_batch_acc_total += sess.run(\n",
    "                loaded_acc,\n",
    "                feed_dict={loaded_x: train_feature_batch, loaded_y: train_label_batch, loaded_keep_prob: 1.0})\n",
    "            test_batch_count += 1\n",
    "\n",
    "        print('Testing Accuracy: {}\\n'.format(test_batch_acc_total/test_batch_count))\n",
    "\n",
    "        # Print Random Samples\n",
    "        random_test_features, random_test_labels = tuple(zip(*random.sample(list(zip(test_features, test_labels)), n_samples)))\n",
    "        random_test_predictions = sess.run(\n",
    "            tf.nn.top_k(tf.nn.softmax(loaded_logits), top_n_predictions),\n",
    "            feed_dict={loaded_x: random_test_features, loaded_y: random_test_labels, loaded_keep_prob: 1.0})\n",
    "        helper.display_image_predictions(random_test_features, random_test_labels, random_test_predictions)\n",
    "\n",
    "\n",
    "test_model()"
   ]
  },
  {
   "cell_type": "markdown",
   "metadata": {
    "deletable": true,
    "editable": true
   },
   "source": [
    "# Why 50-70% Accuracy?\n",
    "You might be wondering why you can't get an accuracy any higher. First things first, 50% isn't bad for a simple CNN.  Pure guessing would get you 10% accuracy. However, you might notice people are getting scores [well above 70%](http://rodrigob.github.io/are_we_there_yet/build/classification_datasets_results.html#43494641522d3130).  That's because we haven't taught you all there is to know about neural networks. We still need to cover a few more techniques.\n",
    "## Submitting This Project\n",
    "When submitting this project, make sure to run all the cells before saving the notebook.  Save the notebook file as \"dlnd_image_classification.ipynb\" and save it as a HTML file under \"File\" -> \"Download as\".  Include the \"helper.py\" and \"problem_unittests.py\" files in your submission."
   ]
  },
  {
   "cell_type": "code",
   "execution_count": null,
   "metadata": {
    "collapsed": true
   },
   "outputs": [],
   "source": []
  }
 ],
 "metadata": {
  "anaconda-cloud": {},
  "kernelspec": {
   "display_name": "Python 3",
   "language": "python",
   "name": "python3"
  },
  "language_info": {
   "codemirror_mode": {
    "name": "ipython",
    "version": 3
   },
   "file_extension": ".py",
   "mimetype": "text/x-python",
   "name": "python",
   "nbconvert_exporter": "python",
   "pygments_lexer": "ipython3",
   "version": "3.5.2"
  },
  "widgets": {
   "state": {},
   "version": "1.1.2"
  }
 },
 "nbformat": 4,
 "nbformat_minor": 0
}
